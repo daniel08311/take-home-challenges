{
 "cells": [
  {
   "cell_type": "markdown",
   "metadata": {},
   "source": [
    "# Problem 1 - Implementing a Pipe Function"
   ]
  },
  {
   "cell_type": "markdown",
   "metadata": {},
   "source": [
    "## Fisrt we define pointed_function and pipe_function\n",
    "* pointed_function takes an int val and return val + 1\n",
    "* pipe_function takes a val and an arbitrary number of functions and transform val by those functions "
   ]
  },
  {
   "cell_type": "code",
   "execution_count": 1,
   "metadata": {},
   "outputs": [],
   "source": [
    "'''\n",
    "    The function which will be passed into pipe function.\n",
    "'''\n",
    "def pointed_function(val):\n",
    "    return val + 1\n",
    "\n",
    "\n",
    "'''\n",
    "    Pipe function continuously transform val by calling function(val) for every function passed through args.\n",
    "    Return None if type error occurs.\n",
    "'''\n",
    "def pipe_function(val, *args):\n",
    "    \n",
    "    functions = args\n",
    "    \n",
    "    for function in functions:\n",
    "    \n",
    "        try:\n",
    "            val = function(val)\n",
    "        \n",
    "        except TypeError:\n",
    "            print(\"type not matched\")\n",
    "            return None\n",
    "    \n",
    "    return val"
   ]
  },
  {
   "cell_type": "markdown",
   "metadata": {},
   "source": [
    "## Let's test some basic cases"
   ]
  },
  {
   "cell_type": "code",
   "execution_count": 2,
   "metadata": {},
   "outputs": [],
   "source": [
    "# should pass\n",
    "assert(pipe_function(5) == 5)"
   ]
  },
  {
   "cell_type": "code",
   "execution_count": 3,
   "metadata": {},
   "outputs": [],
   "source": [
    "# should pass\n",
    "assert(pipe_function(5, pointed_function) == 6)"
   ]
  },
  {
   "cell_type": "code",
   "execution_count": 4,
   "metadata": {},
   "outputs": [],
   "source": [
    "# should pass\n",
    "assert(pipe_function(5, pointed_function, pointed_function, pointed_function) == 8)"
   ]
  },
  {
   "cell_type": "code",
   "execution_count": 5,
   "metadata": {},
   "outputs": [
    {
     "name": "stdout",
     "output_type": "stream",
     "text": [
      "type not matched\n"
     ]
    },
    {
     "ename": "AssertionError",
     "evalue": "",
     "output_type": "error",
     "traceback": [
      "\u001b[0;31m---------------------------------------------------------------------------\u001b[0m",
      "\u001b[0;31mAssertionError\u001b[0m                            Traceback (most recent call last)",
      "\u001b[0;32m<ipython-input-5-b04e74ea3bce>\u001b[0m in \u001b[0;36m<module>\u001b[0;34m()\u001b[0m\n\u001b[1;32m      1\u001b[0m \u001b[0;31m# should raise assertion error\u001b[0m\u001b[0;34m\u001b[0m\u001b[0;34m\u001b[0m\u001b[0;34m\u001b[0m\u001b[0m\n\u001b[1;32m      2\u001b[0m \u001b[0;31m# val is a function which is not the type pointed_function requires, pipe_function should return None\u001b[0m\u001b[0;34m\u001b[0m\u001b[0;34m\u001b[0m\u001b[0;34m\u001b[0m\u001b[0m\n\u001b[0;32m----> 3\u001b[0;31m \u001b[0;32massert\u001b[0m\u001b[0;34m(\u001b[0m\u001b[0mpipe_function\u001b[0m\u001b[0;34m(\u001b[0m\u001b[0mpointed_function\u001b[0m\u001b[0;34m,\u001b[0m \u001b[0mpointed_function\u001b[0m\u001b[0;34m,\u001b[0m \u001b[0mpointed_function\u001b[0m\u001b[0;34m)\u001b[0m \u001b[0;34m==\u001b[0m \u001b[0;36m8\u001b[0m\u001b[0;34m)\u001b[0m\u001b[0;34m\u001b[0m\u001b[0;34m\u001b[0m\u001b[0m\n\u001b[0m",
      "\u001b[0;31mAssertionError\u001b[0m: "
     ]
    }
   ],
   "source": [
    "# should raise assertion error\n",
    "# val is a function which is not the type pointed_function requires, pipe_function should return None\n",
    "assert(pipe_function(pointed_function, pointed_function, pointed_function) == 8)"
   ]
  },
  {
   "cell_type": "code",
   "execution_count": 6,
   "metadata": {},
   "outputs": [
    {
     "name": "stdout",
     "output_type": "stream",
     "text": [
      "type not matched\n"
     ]
    }
   ],
   "source": [
    "# should pass but print type error warning\n",
    "assert(pipe_function(pointed_function, pointed_function, pointed_function) == None)"
   ]
  },
  {
   "cell_type": "markdown",
   "metadata": {},
   "source": [
    "## Consider if someone passes another function into our pipe function\n",
    "* another_pointed_function takes a string val and return val + \"1\""
   ]
  },
  {
   "cell_type": "code",
   "execution_count": 7,
   "metadata": {},
   "outputs": [],
   "source": [
    "''' \n",
    "    Another pointed function which might be passed into pipe function\n",
    "''' \n",
    "def another_pointed_function(val):\n",
    "    return val + \"1\""
   ]
  },
  {
   "cell_type": "code",
   "execution_count": 8,
   "metadata": {},
   "outputs": [
    {
     "name": "stdout",
     "output_type": "stream",
     "text": [
      "type not matched\n"
     ]
    },
    {
     "ename": "AssertionError",
     "evalue": "",
     "output_type": "error",
     "traceback": [
      "\u001b[0;31m---------------------------------------------------------------------------\u001b[0m",
      "\u001b[0;31mAssertionError\u001b[0m                            Traceback (most recent call last)",
      "\u001b[0;32m<ipython-input-8-ead12240a17e>\u001b[0m in \u001b[0;36m<module>\u001b[0;34m()\u001b[0m\n\u001b[1;32m      1\u001b[0m \u001b[0;31m# should raise assertion error\u001b[0m\u001b[0;34m\u001b[0m\u001b[0;34m\u001b[0m\u001b[0;34m\u001b[0m\u001b[0m\n\u001b[1;32m      2\u001b[0m \u001b[0;31m# val is an int which is not the type another_pointed_function requires, pipe_function should return None\u001b[0m\u001b[0;34m\u001b[0m\u001b[0;34m\u001b[0m\u001b[0;34m\u001b[0m\u001b[0m\n\u001b[0;32m----> 3\u001b[0;31m \u001b[0;32massert\u001b[0m\u001b[0;34m(\u001b[0m\u001b[0mpipe_function\u001b[0m\u001b[0;34m(\u001b[0m\u001b[0;36m5\u001b[0m\u001b[0;34m,\u001b[0m \u001b[0manother_pointed_function\u001b[0m\u001b[0;34m)\u001b[0m \u001b[0;34m==\u001b[0m \u001b[0;36m6\u001b[0m\u001b[0;34m)\u001b[0m\u001b[0;34m\u001b[0m\u001b[0;34m\u001b[0m\u001b[0m\n\u001b[0m",
      "\u001b[0;31mAssertionError\u001b[0m: "
     ]
    }
   ],
   "source": [
    "# should raise assertion error \n",
    "# val is an int which is not the type another_pointed_function requires, pipe_function should return None\n",
    "assert(pipe_function(5, another_pointed_function) == 6)"
   ]
  },
  {
   "cell_type": "code",
   "execution_count": 9,
   "metadata": {},
   "outputs": [
    {
     "name": "stdout",
     "output_type": "stream",
     "text": [
      "type not matched\n"
     ]
    }
   ],
   "source": [
    "# should pass but print type error warning\n",
    "assert(pipe_function(5, another_pointed_function) == None)"
   ]
  },
  {
   "cell_type": "code",
   "execution_count": 10,
   "metadata": {},
   "outputs": [],
   "source": [
    "# should pass\n",
    "assert(pipe_function(\"a\", another_pointed_function) == \"a1\")"
   ]
  },
  {
   "cell_type": "code",
   "execution_count": 11,
   "metadata": {},
   "outputs": [],
   "source": [
    "# should pass\n",
    "assert(pipe_function(\"a\", another_pointed_function, another_pointed_function, another_pointed_function) == \"a111\")"
   ]
  },
  {
   "cell_type": "markdown",
   "metadata": {},
   "source": [
    "## Let's generate random test cases and check if all goes well\n",
    "* I'll use pointed_function as our testing function\n",
    "* Generate a random val x and a random number of y pointed_functions\n",
    "* We can easily check if our pipe_function works well if the return of pipe function equals val + y*1\n",
    "  * Since we have y pointed_functions and each of them adds 1 to val\n",
    "  * let a = pipe_function(x, pointed_function, pointed_function, pointed_function .... y pointed_functions in total) \n",
    "  * let b = x + y * 1\n",
    "  * a equals b for every combinations of x, y\n",
    "\n"
   ]
  },
  {
   "cell_type": "code",
   "execution_count": 12,
   "metadata": {},
   "outputs": [],
   "source": [
    "import random\n",
    "\n",
    "# generate 50 test cases\n",
    "test_sample_count = 50\n",
    "\n",
    "# generate random vals ranging from -2^32 to 2^32\n",
    "vals = random.sample(range(-2**32, 2**32), test_sample_count)\n",
    "\n",
    "# generate random function counts ranging from 0 to 2^20 to be passed into pipe_function\n",
    "function_counts = random.sample(range(0, 2**20), test_sample_count)"
   ]
  },
  {
   "cell_type": "code",
   "execution_count": 13,
   "metadata": {},
   "outputs": [
    {
     "name": "stdout",
     "output_type": "stream",
     "text": [
      "testing with value 1494383657, 61246 functions\n",
      "testing with value -464622368, 217236 functions\n",
      "testing with value 1810354724, 370962 functions\n",
      "testing with value 1273076355, 445904 functions\n",
      "testing with value -1814778989, 279954 functions\n",
      "testing with value -547281252, 326448 functions\n",
      "testing with value -348489157, 504761 functions\n",
      "testing with value 2943433779, 483491 functions\n",
      "testing with value -2381573894, 401465 functions\n",
      "testing with value -4184860301, 946729 functions\n",
      "testing with value 2773883024, 814858 functions\n",
      "testing with value 2926668367, 479480 functions\n",
      "testing with value -897390684, 396004 functions\n",
      "testing with value 2085088374, 867386 functions\n",
      "testing with value 1378099076, 288554 functions\n",
      "testing with value 3773012093, 1035555 functions\n",
      "testing with value 4183736071, 158887 functions\n",
      "testing with value -4111515477, 375742 functions\n",
      "testing with value 2307665209, 13769 functions\n",
      "testing with value -2286054925, 33088 functions\n",
      "testing with value -1287706967, 38236 functions\n",
      "testing with value -2541308035, 274626 functions\n",
      "testing with value 1722360374, 293642 functions\n",
      "testing with value 1725012716, 394216 functions\n",
      "testing with value -2057828517, 269704 functions\n",
      "testing with value 4255522359, 733481 functions\n",
      "testing with value 1291007490, 440471 functions\n",
      "testing with value 3780192315, 14231 functions\n",
      "testing with value 1011667562, 465234 functions\n",
      "testing with value -1059620776, 246309 functions\n",
      "testing with value 1449924472, 530241 functions\n",
      "testing with value -3804086696, 865418 functions\n",
      "testing with value 3415814492, 175808 functions\n",
      "testing with value -4234696588, 939869 functions\n",
      "testing with value 706406984, 696367 functions\n",
      "testing with value 3891001015, 433251 functions\n",
      "testing with value 3628632102, 641263 functions\n",
      "testing with value 1995189770, 192338 functions\n",
      "testing with value 2744869164, 453208 functions\n",
      "testing with value -4038244173, 355327 functions\n",
      "testing with value -1209980175, 307723 functions\n",
      "testing with value -2532337326, 350721 functions\n",
      "testing with value 872550453, 213981 functions\n",
      "testing with value 2581123667, 1044653 functions\n",
      "testing with value 2285874959, 864527 functions\n",
      "testing with value -3521080253, 426968 functions\n",
      "testing with value 1302094814, 916876 functions\n",
      "testing with value 2322514431, 515886 functions\n",
      "testing with value -3383370281, 335965 functions\n",
      "testing with value -2792650280, 888917 functions\n"
     ]
    }
   ],
   "source": [
    "# generate args given val and function_count\n",
    "# pass args into pipe_function and test if result is correct\n",
    "def test_pipe_function(val, function_count):\n",
    "    print(f'testing with value {val}, {function_count} functions')\n",
    "    args = [val] + [pointed_function] * function_count\n",
    "    assert (pipe_function(*args) == (val + 1*function_count))\n",
    "\n",
    "\n",
    "for val, function_count in zip(vals, function_counts):\n",
    "    test_pipe_function(val, function_count)"
   ]
  },
  {
   "cell_type": "markdown",
   "metadata": {},
   "source": [
    "## Test cases passed withour errors\n",
    "* I tested around 1000 on my laptop and passed also.\n",
    "* Note that passing in too many functions into pipe_function results in memory error (turn down maximum function_counts) "
   ]
  },
  {
   "cell_type": "markdown",
   "metadata": {},
   "source": [
    "# Problem 2 - Finding Next Greater Element\n",
    "* I'll try my best to explain my thoughts. \n",
    "* The key points are:\n",
    "    * Search backwards since we want to find the *smallest* next element, going backwards makes sure that the solution we found are at the smallest possible digit.\n",
    "    * For a number which is in descending order, e.g 98765, we cannot find a next greater element.\n",
    "    * We have to find the point at which a number breaks the descending trend.\n",
    "    * Take 498765 for example, we can see that at the point 4, the descending trend stops.\n",
    "    * We should now determine what is the smallest number larger than 4 on the right hand side of 9 (including 9) for swapping.\n",
    "    * Note that we can not consider numbers on the left hand side of 9 since it effects the larger digits.\n",
    "    * Now that we swapped 4 and 5, the number become 598764\n",
    "    * We can safely assume that the numbers on the right hand side of 9 is still in descending trend\n",
    "    * Since it's in descending trend, reversing numbers on the right hand side of 9 returns the smallest number possible, 598764 -> 546789.\n",
    "    * For a negative number, all remains the same excepts that now we stop when a number breaks the *ascending* trend. \n",
    "    * I'll explain more for the negative case during interview."
   ]
  },
  {
   "cell_type": "markdown",
   "metadata": {},
   "source": [
    "* The detailed steps goes like this:\n",
    "    * Consider a number 6876\n",
    "    * First transform it into an int list [6,8,7,6]\n",
    "    * Look at the list *backward*\n",
    "    * Now we are at the rightmost number 6\n",
    "    * Check if number 6 is larger than it's left neighbor 7\n",
    "    * Since it's not, we move on and look at 7 with its left neighbor 8\n",
    "    * Stop at 8 since its left neighbor 6 is smaller than 8\n",
    "    * Find the smallest number on the right hand side of 8 (including 8) which is larger than 6\n",
    "    * The number should be 7\n",
    "    * Swap the leftmost 6 with 7 and get 7866\n",
    "    * Now reverse the order of numbers on the right hand side of 8 (including 8) \n",
    "    * We get 7668 \n",
    "    * Problem Solved"
   ]
  },
  {
   "cell_type": "code",
   "execution_count": 14,
   "metadata": {},
   "outputs": [],
   "source": [
    "''' \n",
    "    The algorithm takes in a num and a isNegative flag(1 for num > 0, -1 for else) as inputs\n",
    "    The function returns next greater number if found or return None\n",
    "    Let n be the digit length of num\n",
    "    The first for statement will iterate for a maximum of n-1 steps\n",
    "    The second for statement will only be triggered once and the maximum iterations is n-2 steps\n",
    "    Combined time complexity should be O(n-1 + n-2) = O(n)\n",
    "'''\n",
    "def next_greater_number(num, isNegative=1):\n",
    "    \n",
    "    # turn num into string first  \n",
    "    num_string = str(num)\n",
    "    \n",
    "    # reverse num string since we want to search from the last digit\n",
    "    num_string_reverse = num_string[::-1]\n",
    "    \n",
    "    # turn reversed string in to list of int number\n",
    "    reverse_list = [int(char) for char in num_string_reverse]\n",
    "\n",
    "    length = len(num_string)\n",
    "    \n",
    "    for i in range(length - 1):\n",
    "        \n",
    "        # continue searching for i if reverse_list[i] isn't larger than reverse_list[i+1]\n",
    "        if isNegative*reverse_list[i] <= isNegative*reverse_list[i+1]:\n",
    "            continue\n",
    "            \n",
    "        # the swapping part\n",
    "        for j in range(i+1):\n",
    "            if isNegative*reverse_list[j] > isNegative*reverse_list[i+1]:\n",
    "                reverse_list[j], reverse_list[i+1] = reverse_list[i+1], reverse_list[j]\n",
    "                result = reverse_list[i+1:length][::-1] + reverse_list[:i+1]\n",
    "                return isNegative * int(\"\".join([str(digit) for digit in result]))\n",
    "\n",
    "    return None"
   ]
  },
  {
   "cell_type": "code",
   "execution_count": 15,
   "metadata": {},
   "outputs": [],
   "source": [
    "'''\n",
    "    Simple run function to run our algorithm.\n",
    "'''\n",
    "def run_algo(number):\n",
    "    if number < 0:\n",
    "        return(next_greater_number(-number, -1))\n",
    "    return(next_greater_number(number))"
   ]
  },
  {
   "cell_type": "markdown",
   "metadata": {},
   "source": [
    "## The testing phase"
   ]
  },
  {
   "cell_type": "markdown",
   "metadata": {},
   "source": [
    "### Test for the basic cases given in the email"
   ]
  },
  {
   "cell_type": "code",
   "execution_count": 16,
   "metadata": {},
   "outputs": [],
   "source": [
    "assert(run_algo(123) == 132)\n",
    "assert(run_algo(5566) == 5656)\n",
    "assert(run_algo(-3310) == -3301)"
   ]
  },
  {
   "cell_type": "markdown",
   "metadata": {},
   "source": [
    "### Test for ascending, descending and flat scenario for positive numbers"
   ]
  },
  {
   "cell_type": "code",
   "execution_count": 17,
   "metadata": {},
   "outputs": [],
   "source": [
    "assert(run_algo(123456789) == 123456798)\n",
    "assert(run_algo(987654321) == None)\n",
    "assert(run_algo(11111111) == None)"
   ]
  },
  {
   "cell_type": "markdown",
   "metadata": {},
   "source": [
    "### Test for ascending, descending and flat scenario for negative numbers"
   ]
  },
  {
   "cell_type": "code",
   "execution_count": 18,
   "metadata": {},
   "outputs": [],
   "source": [
    "assert(run_algo(-123456789) == None)\n",
    "assert(run_algo(-987654321) == -987654312)\n",
    "assert(run_algo(-11111111) == None)"
   ]
  },
  {
   "cell_type": "markdown",
   "metadata": {},
   "source": [
    "### Test for mountain shaped numbers (middle digits larger than digits on two sides)"
   ]
  },
  {
   "cell_type": "code",
   "execution_count": 19,
   "metadata": {},
   "outputs": [],
   "source": [
    "assert(run_algo(135765431) == 136134557)\n",
    "assert(run_algo(-135765431) == -135765413)"
   ]
  },
  {
   "cell_type": "markdown",
   "metadata": {},
   "source": [
    "### Test for V shaped numbers (middle digits smaller than digits on two sides)"
   ]
  },
  {
   "cell_type": "code",
   "execution_count": 20,
   "metadata": {},
   "outputs": [],
   "source": [
    "assert(run_algo(96432455) == 96432545)\n",
    "assert(run_algo(-96432455) == -96425543)"
   ]
  },
  {
   "cell_type": "markdown",
   "metadata": {},
   "source": [
    "## Short Summary"
   ]
  },
  {
   "cell_type": "markdown",
   "metadata": {},
   "source": [
    "* We have tested for ascending, descending, flat, V shaped and mountain shaped numbers.\n",
    "* We can assume that all other shape, e.g W shaped and M shaped, will do fine since they are just a combination of the tested shape."
   ]
  },
  {
   "cell_type": "markdown",
   "metadata": {},
   "source": [
    "# This is the end of my answer for the two problems\n",
    "# Thanks again for putting effort into reading it !"
   ]
  }
 ],
 "metadata": {
  "kernelspec": {
   "display_name": "Python 3",
   "language": "python",
   "name": "python3"
  },
  "language_info": {
   "codemirror_mode": {
    "name": "ipython",
    "version": 3
   },
   "file_extension": ".py",
   "mimetype": "text/x-python",
   "name": "python",
   "nbconvert_exporter": "python",
   "pygments_lexer": "ipython3",
   "version": "3.6.9"
  }
 },
 "nbformat": 4,
 "nbformat_minor": 2
}
